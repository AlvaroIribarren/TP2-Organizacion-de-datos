{
 "cells": [
  {
   "cell_type": "code",
   "execution_count": 1,
   "metadata": {},
   "outputs": [],
   "source": [
    "import numpy as np\n",
    "import pandas as pd\n",
    "import math\n",
    "import seaborn as sns\n",
    "from sklearn import preprocessing\n",
    "import xgboost as xgb\n",
    "from xgboost.sklearn import XGBRegressor\n",
    "from sklearn.model_selection import train_test_split\n",
    "import datetime\n",
    "from sklearn.model_selection import GridSearchCV"
   ]
  },
  {
   "cell_type": "code",
   "execution_count": 2,
   "metadata": {},
   "outputs": [],
   "source": [
    "df_train = pd.read_csv('train.csv')\n",
    "df_test = pd.read_csv('test.csv')"
   ]
  },
  {
   "cell_type": "code",
   "execution_count": 3,
   "metadata": {},
   "outputs": [
    {
     "name": "stdout",
     "output_type": "stream",
     "text": [
      "875\n",
      "576\n"
     ]
    },
    {
     "data": {
      "text/plain": [
       "id                              int64\n",
       "titulo                         object\n",
       "descripcion                    object\n",
       "tipodepropiedad                object\n",
       "direccion                      object\n",
       "ciudad                        float32\n",
       "provincia                      object\n",
       "antiguedad                    float64\n",
       "habitaciones                  float64\n",
       "garages                       float64\n",
       "banos                         float64\n",
       "metroscubiertos               float64\n",
       "metrostotales                 float64\n",
       "idzona                        float64\n",
       "lat                           float64\n",
       "lng                           float64\n",
       "fecha                          object\n",
       "gimnasio                      float64\n",
       "usosmultiples                 float64\n",
       "piscina                       float64\n",
       "escuelascercanas              float64\n",
       "centroscomercialescercanos    float64\n",
       "precio                        float64\n",
       "dtype: object"
      ]
     },
     "execution_count": 3,
     "metadata": {},
     "output_type": "execute_result"
    }
   ],
   "source": [
    "df_ciudades = df_train.groupby('ciudad').agg({'metrostotales':'mean'})\n",
    "df_ciudades2 = df_test.groupby('ciudad').agg({'metrostotales':'mean'})\n",
    "\n",
    "df_ciudades2.reset_index(inplace = True)\n",
    "ciudades_list2 = df_ciudades2.values.tolist()\n",
    "\n",
    "df_ciudades.reset_index(inplace = True)\n",
    "ciudades_list = df_ciudades.values.tolist()\n",
    "\n",
    "only_ciudades_train = []\n",
    "only_ciudades_test = []\n",
    "for ciudades in ciudades_list:\n",
    "    only_ciudades_train.append(ciudades[0])\n",
    "\n",
    "for ciudades in ciudades_list2:\n",
    "    only_ciudades_test.append(ciudades[0])\n",
    "    \n",
    "print(len(only_ciudades_train))\n",
    "print(len(only_ciudades_test))\n",
    "\n",
    "dif = []\n",
    "\n",
    "for ciudad in only_ciudades_test:\n",
    "    if ciudad not in only_ciudades_train:\n",
    "        dif.append(ciudad)\n",
    "        \n",
    "for ciudad in dif:\n",
    "    ciudades_list.append([ciudad,'nan'])\n",
    "\n",
    "#print(ciudades_list)\n",
    "        \n",
    "for i in range (0,len(ciudades_list)):\n",
    "    df_train.loc[df_train.ciudad == ciudades_list[i][0], 'ciudad'] = float(ciudades_list[i][1])\n",
    "    df_test.loc[df_test.ciudad == ciudades_list[i][0], 'ciudad'] = float(ciudades_list[i][1])\n",
    "    \n",
    "df_train.apply(lambda col:pd.to_numeric(col, errors='coerce'))\n",
    "df_test.apply(lambda col:pd.to_numeric(col, errors='coerce'))\n",
    "df_train.astype({'ciudad': 'float64'})\n",
    "df_test.astype({'ciudad': 'float64'})\n",
    "\n",
    "df_train['ciudad'] = pd.to_numeric(df_train['ciudad'], downcast='float')\n",
    "df_test['ciudad'] = pd.to_numeric(df_test['ciudad'], downcast='float')\n",
    "\n",
    "df_train.dtypes"
   ]
  },
  {
   "cell_type": "code",
   "execution_count": 4,
   "metadata": {},
   "outputs": [
    {
     "name": "stderr",
     "output_type": "stream",
     "text": [
      "c:\\users\\manuel\\appdata\\local\\programs\\python\\python37-32\\lib\\site-packages\\xgboost\\core.py:587: FutureWarning: Series.base is deprecated and will be removed in a future version\n",
      "  if getattr(data, 'base', None) is not None and \\\n",
      "c:\\users\\manuel\\appdata\\local\\programs\\python\\python37-32\\lib\\site-packages\\xgboost\\core.py:588: FutureWarning: Series.base is deprecated and will be removed in a future version\n",
      "  data.base is not None and isinstance(data, np.ndarray) \\\n"
     ]
    }
   ],
   "source": [
    "#----------------PREPROCESAMIENTO----------------\n",
    "\n",
    "df_train = df_train.drop(['fecha','titulo','descripcion','direccion','idzona','lat','lng'], axis=1)\n",
    "df_test = df_test.drop(['fecha','titulo','descripcion','direccion','idzona','lat','lng'], axis=1)\n",
    "df_train = df_train.fillna(value = {'provincia': 0, 'tipodepropiedad': 0})\n",
    "\n",
    "#XGBoost maneja los NaNs, ver despues si lo dejamos como esta\n",
    "\n",
    "df_train = pd.get_dummies(df_train, drop_first=True)#, sparse = True)\n",
    "df_test = pd.get_dummies(df_test, drop_first=True)#, sparse = True)\n",
    "\n",
    "#print(df_train_xgboost.shape)\n",
    "#precio = df_train_xgboost['precio']\n",
    "#df_train_xgboost.drop(labels=['precio'], axis=1,inplace = True)\n",
    "#df_train_xgboost.insert(len(df_train_xgboost.columns), 'Precio', precio)\n",
    "\n",
    "#X_train, y_train = df_train_xgboost.iloc[:,:-1],df_train_xgboost.iloc[:,-1]\n",
    "\n",
    "X = df_train.drop(\"precio\", axis=1)\n",
    "y = df_train['precio']\n",
    "\n",
    "df_test['tipodepropiedad_Garage'] = 0\n",
    "df_test['tipodepropiedad_Hospedaje'] = 0\n",
    "df_test['provincia_Aguascalientes'] = 0\n",
    "df_test['tipodepropiedad_Apartamento'] = 0\n",
    "df_test = df_test[list(X.columns.values)]\n",
    "\n",
    "xg_reg = xgb.XGBRegressor(objective ='reg:linear', colsample_bytree = 0.7, learning_rate = 0.04,\n",
    "                max_depth = 9, min_child_weight = 1, n_estimators = 700, nthread = 4, subsample = 0.7, silent = 1)\n",
    "\n",
    "xg_reg.fit(X,y)\n",
    "\n",
    "preds = xg_reg.predict(df_test)\n",
    "\n",
    "\n",
    "res = pd.DataFrame(preds, index=df_test.index, columns=['precio'])"
   ]
  },
  {
   "cell_type": "code",
   "execution_count": 6,
   "metadata": {},
   "outputs": [],
   "source": [
    "res2 = res\n",
    "res2['id'] = df_test['id']\n",
    "res = res.reset_index(drop=True)\n",
    "res.head()\n",
    "res.set_index('id', inplace = True)\n",
    "#res.columns = ['id', 'target']\n",
    "#res.set_index('id', inplace = True)\n",
    "res.rename(columns={'precio':'target'}, inplace=True)\n",
    "res.head()\n",
    "\n",
    "\n",
    "res.to_csv(\"XGBoost_grupo3_meanCities.csv\", header=True)"
   ]
  },
  {
   "cell_type": "code",
   "execution_count": null,
   "metadata": {},
   "outputs": [],
   "source": []
  }
 ],
 "metadata": {
  "kernelspec": {
   "display_name": "Python 3",
   "language": "python",
   "name": "python3"
  },
  "language_info": {
   "codemirror_mode": {
    "name": "ipython",
    "version": 3
   },
   "file_extension": ".py",
   "mimetype": "text/x-python",
   "name": "python",
   "nbconvert_exporter": "python",
   "pygments_lexer": "ipython3",
   "version": "3.7.1"
  }
 },
 "nbformat": 4,
 "nbformat_minor": 2
}
