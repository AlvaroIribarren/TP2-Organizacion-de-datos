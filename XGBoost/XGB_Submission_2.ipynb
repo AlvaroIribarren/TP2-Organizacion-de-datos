{
 "cells": [
  {
   "cell_type": "code",
   "execution_count": 6,
   "metadata": {},
   "outputs": [],
   "source": [
    "import pandas as pd\n",
    "import xgboost as xgb\n",
    "from sklearn.metrics import mean_squared_error\n",
    "from sklearn.model_selection import train_test_split\n",
    "from sklearn.preprocessing import OneHotEncoder\n",
    "from sklearn.compose import ColumnTransformer\n",
    "from sklearn.metrics import accuracy_score\n",
    "import numpy as np\n",
    "import matplotlib.pyplot as plt\n",
    "\n",
    "df_train = pd.read_csv('train.csv')\n",
    "df_test = pd.read_csv('test.csv')\n",
    "\n",
    "#Buscar simple Inputer\n"
   ]
  },
  {
   "cell_type": "code",
   "execution_count": 7,
   "metadata": {},
   "outputs": [
    {
     "name": "stdout",
     "output_type": "stream",
     "text": [
      "(240000, 15)\n",
      "(240000, 67)\n"
     ]
    }
   ],
   "source": [
    "#----------------PREPROCESAMIENTO----------------\n",
    "df_train_xgboost = df_train\n",
    "df_test_xgboost = df_test\n",
    "\n",
    "#df_train_xgboost = df_train_xgboost.drop(['fecha','titulo','descripcion','direccion','idzona','lat','lng'], axis=1)\n",
    "#df_train_xgboost = df_train_xgboost.fillna(value = {'ciudad': 0, 'provincia': 0, 'tipodepropiedad': 0})\n",
    "\n",
    "df_train_xgboost = df_train_xgboost.drop(['ciudad','fecha','titulo','descripcion','direccion','idzona','lat','lng'], axis=1)\n",
    "df_test_xgboost = df_test_xgboost.drop(['ciudad','fecha','titulo','descripcion','direccion','idzona','lat','lng'], axis=1)\n",
    "#df_train_xgboost = df_train_xgboost.fillna(value = {'provincia': 0, 'tipodepropiedad': 0})\n",
    "\n",
    "print(df_train_xgboost.shape)\n",
    "#XGBoost maneja los NaNs, ver despues si lo dejamos como esta\n",
    "\n",
    "df_train_xgboost = pd.get_dummies(df_train_xgboost, drop_first=True)#, sparse = True)\n",
    "df_test_xgboost = pd.get_dummies(df_test_xgboost, drop_first=True)#, sparse = True)\n",
    "\n",
    "print(df_train_xgboost.shape)\n",
    "precio = df_train_xgboost['precio']\n",
    "df_train_xgboost.drop(labels=['precio'], axis=1,inplace = True)\n",
    "df_train_xgboost.insert(len(df_train_xgboost.columns), 'Precio', precio)\n",
    "\n",
    "X_train, y_train = df_train_xgboost.iloc[:,:-1],df_train_xgboost.iloc[:,-1]\n",
    "\n",
    "df_test_xgboost['tipodepropiedad_Garage'] = 0\n",
    "df_test_xgboost['tipodepropiedad_Hospedaje'] = 0\n",
    "df_test_xgboost = df_test_xgboost[list(X_train.columns.values)]\n",
    "\n",
    "#data_dmatrix = xgb.DMatrix(data=X,label=y)\n",
    "#X_train, X_test, y_train, y_test = train_test_split(X, y, test_size=0.2, random_state=123)\n",
    "\n",
    "#xg_reg = xgb.XGBRegressor(objective ='reg:linear', colsample_bytree = 1, learning_rate = 0.01,\n",
    "#                max_depth = 3, gamma = 1, n_estimators = 1000)\n",
    "\n",
    "#xg_reg = xgb.XGBRegressor(objective ='reg:linear', colsample_bytree = 0.7, learning_rate = 0.05,\n",
    "#                max_depth = 7, min_child_weight = 4, n_estimators = 500, nthread = 4, subsample = 0.7, silent = 1)\n",
    "\n",
    "xg_reg = xgb.XGBRegressor(objective ='reg:linear', colsample_bytree = 0.7, learning_rate = 0.04,\n",
    "                max_depth = 9, min_child_weight = 1, n_estimators = 700, nthread = 4, subsample = 0.7, silent = 1)\n",
    "\n",
    "xg_reg.fit(X_train,y_train)\n",
    "\n",
    "preds = xg_reg.predict(df_test_xgboost)\n",
    "\n",
    "\n",
    "res = pd.DataFrame(preds, index=df_test_xgboost.index, columns=['precio'])\n"
   ]
  },
  {
   "cell_type": "code",
   "execution_count": null,
   "metadata": {},
   "outputs": [],
   "source": []
  },
  {
   "cell_type": "code",
   "execution_count": null,
   "metadata": {},
   "outputs": [],
   "source": []
  },
  {
   "cell_type": "code",
   "execution_count": 8,
   "metadata": {},
   "outputs": [],
   "source": [
    "res2 = res\n",
    "res2['id'] = df_test_xgboost['id']\n",
    "res = res.reset_index(drop=True)\n",
    "res.head()\n",
    "res.set_index('id', inplace = True)\n",
    "#res.columns = ['id', 'target']\n",
    "#res.set_index('id', inplace = True)\n",
    "res.rename(columns={'precio':'target'}, inplace=True)\n",
    "res.head()\n",
    "\n",
    "\n",
    "res.to_csv(\"XGBoost_grupo3.csv\", header=True)"
   ]
  },
  {
   "cell_type": "code",
   "execution_count": null,
   "metadata": {},
   "outputs": [],
   "source": []
  },
  {
   "cell_type": "code",
   "execution_count": null,
   "metadata": {},
   "outputs": [],
   "source": []
  }
 ],
 "metadata": {
  "kernelspec": {
   "display_name": "Python 3",
   "language": "python",
   "name": "python3"
  },
  "language_info": {
   "codemirror_mode": {
    "name": "ipython",
    "version": 3
   },
   "file_extension": ".py",
   "mimetype": "text/x-python",
   "name": "python",
   "nbconvert_exporter": "python",
   "pygments_lexer": "ipython3",
   "version": "3.7.1"
  }
 },
 "nbformat": 4,
 "nbformat_minor": 2
}
