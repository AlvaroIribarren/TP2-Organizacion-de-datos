{
 "cells": [
  {
   "cell_type": "code",
   "execution_count": 1,
   "metadata": {
    "_cell_guid": "b1076dfc-b9ad-4769-8c92-a6c4dae69d19",
    "_uuid": "8f2839f25d086af736a60e9eeb907d3b93b6e0e5"
   },
   "outputs": [],
   "source": [
    "\n",
    "import numpy as np\n",
    "import pandas as pd\n",
    "import math\n",
    "import seaborn as sns\n",
    "from sklearn import preprocessing\n",
    "import xgboost as xgb\n",
    "from xgboost.sklearn import XGBRegressor\n",
    "from sklearn.model_selection import train_test_split\n",
    "import datetime\n",
    "from sklearn.model_selection import GridSearchCV"
   ]
  },
  {
   "cell_type": "code",
   "execution_count": 2,
   "metadata": {
    "_cell_guid": "79c7e3d0-c299-4dcb-8224-4455121ee9b0",
    "_uuid": "d629ff2d2480ee46fbb7e2d37f6b5fab8052498a"
   },
   "outputs": [
    {
     "data": {
      "text/plain": [
       "<bound method NDFrame.head of             id                                             titulo  \\\n",
       "0       254099                                  depto. tipo a-402   \n",
       "1        53461                     condominio horizontal en venta   \n",
       "2       247984              casa en venta urbi 3 recamaras tonala   \n",
       "3       209067  casa sola en toluca zinacantepec con credito i...   \n",
       "4       185997                                     paseos del sol   \n",
       "...        ...                                                ...   \n",
       "239995  119879  bonita casas de 2 recamaras a 10 minutos del c...   \n",
       "239996  259178  casa en condominio a 10 min. del centro de toluca   \n",
       "239997  131932                                   nicolas san juan   \n",
       "239998  146867                      casa sola. javier rojo gomez.   \n",
       "239999  121958  departamento en bosques de las lomas  / av. st...   \n",
       "\n",
       "                                              descripcion     tipodepropiedad  \\\n",
       "0       depto. interior de 80.15m2, consta de sala com...         Apartamento   \n",
       "1       <p>entre sonora y guerrero, atr&aacute;s del h...  Casa en condominio   \n",
       "2       descripcion \\nla mejor ubicacion residencial e...                Casa   \n",
       "3       casa en privada con caseta de vigilancia casas...                Casa   \n",
       "4       bonito departamento en excelentes condiciones ...         Apartamento   \n",
       "...                                                   ...                 ...   \n",
       "239995  vendo casa en bosques de ica residencial a 10 ...                Casa   \n",
       "239996  casa con un jardin amplio, un cuarto de servic...                Casa   \n",
       "239997  departamento con excelente ubicación, muy cerc...         Apartamento   \n",
       "239998  casa sola, dividida en cuatro departamentos de...                Casa   \n",
       "239999  id:19816, muy bonito e iluminado departamento,...         Apartamento   \n",
       "\n",
       "                              direccion                  ciudad  \\\n",
       "0       Avenida Division del Norte 2005           Benito Juárez   \n",
       "1                            AV. MEXICO  La Magdalena Contreras   \n",
       "2                           Urbi Tonala                  Tonalá   \n",
       "3         IGNACIO MANUEL ALTAMIRANO 128            Zinacantepec   \n",
       "4                       PASEOS DEL SOL                  Zapopan   \n",
       "...                                 ...                     ...   \n",
       "239995                          BOSQUES            Zinacantepec   \n",
       "239996              Filiberto Navas 325                  Toluca   \n",
       "239997                 Nicolas San Juan           Benito Juárez   \n",
       "239998            Javier Rojo Gomez 120              Iztapalapa   \n",
       "239999                        AVE. STIM   Cuajimalpa de Morelos   \n",
       "\n",
       "               provincia  antiguedad  habitaciones  garages  ...      idzona  \\\n",
       "0       Distrito Federal         NaN           2.0      1.0  ...     23533.0   \n",
       "1       Distrito Federal        10.0           3.0      2.0  ...     24514.0   \n",
       "2                Jalisco         5.0           3.0      2.0  ...     48551.0   \n",
       "3         Edo. de México         1.0           2.0      1.0  ...     53666.0   \n",
       "4                Jalisco        10.0           2.0      1.0  ...     47835.0   \n",
       "...                  ...         ...           ...      ...  ...         ...   \n",
       "239995    Edo. de México         0.0           2.0      2.0  ...     53666.0   \n",
       "239996    Edo. de México         0.0           3.0      3.0  ...     51954.0   \n",
       "239997  Distrito Federal        20.0           2.0      1.0  ...  50003995.0   \n",
       "239998  Distrito Federal        20.0           4.0      0.0  ...     24162.0   \n",
       "239999  Distrito Federal         1.0           3.0      2.0  ...     23750.0   \n",
       "\n",
       "              lat        lng                fecha  gimnasio  usosmultiples  \\\n",
       "0             NaN        NaN  2015-08-23 00:00:00       0.0            0.0   \n",
       "1       19.310205 -99.227655  2013-06-28 00:00:00       0.0            0.0   \n",
       "2             NaN        NaN  2015-10-17 00:00:00       0.0            0.0   \n",
       "3       19.301890 -99.688015  2012-03-09 00:00:00       0.0            0.0   \n",
       "4             NaN        NaN  2016-06-07 00:00:00       0.0            0.0   \n",
       "...           ...        ...                  ...       ...            ...   \n",
       "239995        NaN        NaN  2015-02-08 00:00:00       0.0            0.0   \n",
       "239996  19.294665 -99.692916  2014-07-10 00:00:00       0.0            0.0   \n",
       "239997        NaN        NaN  2015-03-03 00:00:00       0.0            0.0   \n",
       "239998  19.366651 -99.082246  2014-12-26 00:00:00       1.0            0.0   \n",
       "239999        NaN        NaN  2015-06-19 00:00:00       0.0            0.0   \n",
       "\n",
       "       piscina  escuelascercanas  centroscomercialescercanos     precio  \n",
       "0          0.0               0.0                         0.0  2273000.0  \n",
       "1          0.0               1.0                         1.0  3600000.0  \n",
       "2          0.0               0.0                         0.0  1200000.0  \n",
       "3          0.0               1.0                         1.0   650000.0  \n",
       "4          0.0               0.0                         0.0  1150000.0  \n",
       "...        ...               ...                         ...        ...  \n",
       "239995     0.0               0.0                         0.0   650000.0  \n",
       "239996     0.0               1.0                         1.0  1940000.0  \n",
       "239997     0.0               0.0                         0.0  3400000.0  \n",
       "239998     0.0               1.0                         1.0  2890000.0  \n",
       "239999     0.0               0.0                         0.0  3650000.0  \n",
       "\n",
       "[240000 rows x 23 columns]>"
      ]
     },
     "execution_count": 2,
     "metadata": {},
     "output_type": "execute_result"
    }
   ],
   "source": [
    "test = pd.read_csv(\"../input/tp2grupo3/test.csv\")\n",
    "train = pd.read_csv(\"../input/tp2grupo3/train.csv\")\n",
    "\n",
    "train.head"
   ]
  },
  {
   "cell_type": "code",
   "execution_count": 3,
   "metadata": {
    "_cell_guid": "",
    "_uuid": ""
   },
   "outputs": [],
   "source": [
    "test['fecha'] = pd.to_datetime(test['fecha'])\n",
    "test['year'] = test['fecha'].dt.year\n",
    "test['month']= test['fecha'].dt.month\n",
    "\n",
    "train['fecha'] = pd.to_datetime(train['fecha'])\n",
    "train['year'] = train['fecha'].dt.year\n",
    "train['month']= train['fecha'].dt.month"
   ]
  },
  {
   "cell_type": "code",
   "execution_count": 4,
   "metadata": {},
   "outputs": [],
   "source": [
    "train = train.drop(['fecha','titulo','descripcion','direccion','lat','lng'], axis=1)\n",
    "test = test.drop(['fecha','titulo','descripcion','direccion','lat','lng'], axis=1)\n",
    "train = train.fillna(value = {'provincia': 0, 'tipodepropiedad': 0, 'ciudad':0})\n",
    "test = test.fillna(value = {'provincia': 0, 'tipodepropiedad': 0, 'ciudad':0})\n",
    "\n",
    "ciudades_en_train = train.ciudad.unique()\n",
    "ciudades_en_test = test.ciudad.unique()\n",
    "\n",
    "tipodepropiedad_en_train = train.tipodepropiedad.unique()\n",
    "tipodepropiedad_en_test = test.tipodepropiedad.unique()\n",
    "\n",
    "provincia_en_train = train.provincia.unique()\n",
    "provincia_en_test = test.provincia.unique()"
   ]
  },
  {
   "cell_type": "code",
   "execution_count": 5,
   "metadata": {},
   "outputs": [],
   "source": [
    "train = pd.get_dummies(train, dummy_na=True)\n",
    "test = pd.get_dummies(test, drop_first=True)"
   ]
  },
  {
   "cell_type": "code",
   "execution_count": 6,
   "metadata": {},
   "outputs": [],
   "source": [
    "X = train.drop(\"precio\", axis=1)\n",
    "y = train['precio']\n",
    "X_train, X_test, y_train, y_test = train_test_split(X, y, test_size=0.10, random_state=1)"
   ]
  },
  {
   "cell_type": "code",
   "execution_count": 7,
   "metadata": {},
   "outputs": [
    {
     "name": "stdout",
     "output_type": "stream",
     "text": [
      "Fitting 2 folds for each of 1 candidates, totalling 2 fits\n"
     ]
    },
    {
     "name": "stderr",
     "output_type": "stream",
     "text": [
      "[Parallel(n_jobs=5)]: Using backend LokyBackend with 5 concurrent workers.\n",
      "[Parallel(n_jobs=5)]: Done   2 out of   2 | elapsed:  4.0min remaining:    0.0s\n",
      "[Parallel(n_jobs=5)]: Done   2 out of   2 | elapsed:  4.0min finished\n",
      "/opt/conda/lib/python3.6/site-packages/xgboost/core.py:587: FutureWarning: Series.base is deprecated and will be removed in a future version\n",
      "  if getattr(data, 'base', None) is not None and \\\n"
     ]
    },
    {
     "name": "stdout",
     "output_type": "stream",
     "text": [
      "0.8056895246147905\n",
      "{'colsample_bytree': 0.7, 'gamma': 0, 'learning_rate': 0.04, 'max_depth': 11, 'min_child_weight': 9, 'n_estimators': 1500, 'nthread': 4, 'objective': 'reg:linear', 'silent': 1, 'subsample': 0.7}\n"
     ]
    }
   ],
   "source": [
    "xgb1 = XGBRegressor(tree_method = 'gpu_hist', gpu_id = 0)\n",
    "\n",
    "#Ir cambiando parametros para ver como functiona\n",
    "\n",
    "parameters = {'nthread':[4], \n",
    "              'objective':['reg:linear'],\n",
    "              'learning_rate': [0.04], \n",
    "              'max_depth': [11], \n",
    "              'min_child_weight': [9], \n",
    "              'silent': [1],\n",
    "              'subsample': [0.7],\n",
    "              'colsample_bytree': [0.7], \n",
    "              'n_estimators': [1500],  \n",
    "            'gamma': [0]} \n",
    "\n",
    "#0.7876343276013036 con 700 estimadores y 9 depth con fechas parseadas\n",
    "#0.7903438420940652 con 700 estimadores y 9 depth\n",
    "#0.7919269007179323 con 600 estimadores y 11 depth\n",
    "#0.8022990816922799 con 700 estimadores , 9 depth, 5 min_child_weight\n",
    "#0.8037024620856591 con 600 estimadores , 11 depth, 5 min_child_weight\n",
    "#0.8037805503151154 con 600 estimadores, 11 depth, 9 min_child_weight\n",
    "#0.805378985255433 con 1000 estimadores, 11 depth, 9 min_child_weight\n",
    "#0.8056895246147905 con 1500 estimadores, 11 depth, 9 min_child_weight\n",
    "\n",
    "xgb_grid = GridSearchCV(xgb1,\n",
    "                        parameters,\n",
    "                        cv = 2,\n",
    "                        n_jobs = 5,\n",
    "                        verbose=True)\n",
    "\n",
    "xgb_grid.fit(X_train,y_train,verbose=True)\n",
    "\n",
    "print(xgb_grid.best_score_)\n",
    "print(xgb_grid.best_params_)"
   ]
  },
  {
   "cell_type": "code",
   "execution_count": null,
   "metadata": {},
   "outputs": [],
   "source": []
  },
  {
   "cell_type": "code",
   "execution_count": 8,
   "metadata": {},
   "outputs": [],
   "source": [
    "preds2 = xgb_grid.predict(X_test)\n"
   ]
  },
  {
   "cell_type": "code",
   "execution_count": 9,
   "metadata": {},
   "outputs": [
    {
     "data": {
      "text/plain": [
       "532239.5212166341"
      ]
     },
     "execution_count": 9,
     "metadata": {},
     "output_type": "execute_result"
    }
   ],
   "source": [
    "from sklearn.metrics import mean_absolute_error\n",
    "mean_absolute_error(y_test, preds2)"
   ]
  },
  {
   "cell_type": "code",
   "execution_count": 10,
   "metadata": {},
   "outputs": [],
   "source": [
    "for ciudad in ciudades_en_train:\n",
    "    if ciudad not in ciudades_en_test:\n",
    "        test['ciudad_'+ str(ciudad)] = 0\n",
    "        \n",
    "for provincia in provincia_en_train:\n",
    "    if provincia not in provincia_en_test:\n",
    "        test['provincia_'+ str(provincia)] = 0\n",
    "        \n",
    "for tipodepropiedad in tipodepropiedad_en_train:\n",
    "    if tipodepropiedad not in tipodepropiedad_en_test:\n",
    "        test['tipodepropiedad_'+ str(tipodepropiedad)] = 0"
   ]
  },
  {
   "cell_type": "code",
   "execution_count": 11,
   "metadata": {},
   "outputs": [],
   "source": [
    "some_list = ['tipodepropiedad_Apartamento', 'ciudad_Abasolo', 'provincia_Aguascalientes', 'tipodepropiedad_nan','provincia_nan', 'provincia_0', 'tipodepropiedad_0', 'ciudad_nan', 'ciudad_0']\n",
    "for item in some_list:\n",
    "    test[item] = 0"
   ]
  },
  {
   "cell_type": "code",
   "execution_count": 12,
   "metadata": {},
   "outputs": [],
   "source": [
    "test = test[list(X.columns.values)]\n",
    "preds = xgb_grid.predict(test)"
   ]
  },
  {
   "cell_type": "code",
   "execution_count": 13,
   "metadata": {},
   "outputs": [],
   "source": [
    "res = pd.DataFrame(preds, index=test.index, columns=['precio'])"
   ]
  },
  {
   "cell_type": "code",
   "execution_count": 14,
   "metadata": {},
   "outputs": [
    {
     "data": {
      "text/html": [
       "<div>\n",
       "<style scoped>\n",
       "    .dataframe tbody tr th:only-of-type {\n",
       "        vertical-align: middle;\n",
       "    }\n",
       "\n",
       "    .dataframe tbody tr th {\n",
       "        vertical-align: top;\n",
       "    }\n",
       "\n",
       "    .dataframe thead th {\n",
       "        text-align: right;\n",
       "    }\n",
       "</style>\n",
       "<table border=\"1\" class=\"dataframe\">\n",
       "  <thead>\n",
       "    <tr style=\"text-align: right;\">\n",
       "      <th></th>\n",
       "      <th>target</th>\n",
       "    </tr>\n",
       "    <tr>\n",
       "      <th>id</th>\n",
       "      <th></th>\n",
       "    </tr>\n",
       "  </thead>\n",
       "  <tbody>\n",
       "    <tr>\n",
       "      <th>4941</th>\n",
       "      <td>6.870004e+06</td>\n",
       "    </tr>\n",
       "    <tr>\n",
       "      <th>51775</th>\n",
       "      <td>9.920920e+05</td>\n",
       "    </tr>\n",
       "    <tr>\n",
       "      <th>115253</th>\n",
       "      <td>2.411636e+06</td>\n",
       "    </tr>\n",
       "    <tr>\n",
       "      <th>299321</th>\n",
       "      <td>1.290262e+06</td>\n",
       "    </tr>\n",
       "    <tr>\n",
       "      <th>173570</th>\n",
       "      <td>6.342486e+05</td>\n",
       "    </tr>\n",
       "  </tbody>\n",
       "</table>\n",
       "</div>"
      ],
      "text/plain": [
       "              target\n",
       "id                  \n",
       "4941    6.870004e+06\n",
       "51775   9.920920e+05\n",
       "115253  2.411636e+06\n",
       "299321  1.290262e+06\n",
       "173570  6.342486e+05"
      ]
     },
     "execution_count": 14,
     "metadata": {},
     "output_type": "execute_result"
    }
   ],
   "source": [
    "res2 = res\n",
    "res2['id'] = test['id']\n",
    "res2 = res.reset_index(drop=True)\n",
    "res2.head()\n",
    "res2.set_index('id', inplace = True)\n",
    "#res.columns = ['id', 'target']\n",
    "#res.set_index('id', inplace = True)\n",
    "res2.rename(columns={'precio':'target'}, inplace=True)\n",
    "res2.head()\n",
    "\n",
    "\n",
    "#res2.to_csv(\"/kaggle/working/submission_xgboost_city_4.csv\", header=True)"
   ]
  },
  {
   "cell_type": "code",
   "execution_count": null,
   "metadata": {},
   "outputs": [],
   "source": [
    "res2.to_csv(\"/kaggle/working/submission_xgboost_city_8.csv\", header=True)"
   ]
  }
 ],
 "metadata": {
  "kernelspec": {
   "display_name": "Python 3",
   "language": "python",
   "name": "python3"
  },
  "language_info": {
   "codemirror_mode": {
    "name": "ipython",
    "version": 3
   },
   "file_extension": ".py",
   "mimetype": "text/x-python",
   "name": "python",
   "nbconvert_exporter": "python",
   "pygments_lexer": "ipython3",
   "version": "3.7.1"
  }
 },
 "nbformat": 4,
 "nbformat_minor": 1
}
