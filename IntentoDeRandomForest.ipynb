{
 "cells": [
  {
   "cell_type": "code",
   "execution_count": null,
   "metadata": {},
   "outputs": [],
   "source": [
    "# Importamos librerías de análisis de datos\n",
    "%matplotlib inline\n",
    "import numpy as np\n",
    "import pandas as pd\n",
    "pd.set_option('display.max_columns', 100)\n",
    "pd.set_option('display.float_format', '{:.2f}'.format)\n",
    "pd.set_option('mode.chained_assignment', None) # Deshabilita SettingWithCopyWarning. Ojo."
   ]
  },
  {
   "cell_type": "code",
   "execution_count": null,
   "metadata": {},
   "outputs": [],
   "source": [
    "one_hot_encoding_example_df = pd.DataFrame(['red', 'red', 'green', 'blue', np.nan], columns=['color'])\n",
    "display(one_hot_encoding_example_df)\n",
    "display(pd.get_dummies(one_hot_encoding_example_df))\n",
    "display(pd.get_dummies(one_hot_encoding_example_df, dummy_na=True))"
   ]
  },
  {
   "cell_type": "code",
   "execution_count": null,
   "metadata": {},
   "outputs": [],
   "source": [
    "# Importamos utilidades y modelos de sklearn\n",
    "from sklearn.preprocessing import Imputer\n",
    "from sklearn.model_selection import train_test_split\n",
    "from sklearn.dummy import DummyRegressor\n",
    "from sklearn.linear_model import LinearRegression\n",
    "from sklearn.tree import DecisionTreeRegressor"
   ]
  },
  {
   "cell_type": "code",
   "execution_count": null,
   "metadata": {},
   "outputs": [],
   "source": [
    "df = pd.read_csv('/home/alvaro/Escritorio/FIUBA/Programación/Organizacion de datos/TP2/train.csv', index_col='id', parse_dates=['fecha'])"
   ]
  },
  {
   "cell_type": "code",
   "execution_count": null,
   "metadata": {},
   "outputs": [],
   "source": [
    "# Droppeamos strings y columnas complejas y repetidas\n",
    "drop_cols = ['titulo', 'descripcion', 'direccion', 'lat', 'lng', 'fecha', 'idzona',\n",
    "            'ciudad']\n",
    "df2 = df.drop(drop_cols, axis=1).copy()\n",
    "print(f\"Columnas ({len(df2.columns)}): {df2.columns.tolist()}\")\n",
    "df2.head()"
   ]
  },
  {
   "cell_type": "code",
   "execution_count": null,
   "metadata": {},
   "outputs": [],
   "source": [
    "display(df2.isnull().sum())\n",
    "numeric_columns_with_nulls = list(set(df2.columns[df2.isnull().sum() > 0].tolist()) \\\n",
    "                                  - set(['tipodepropiedad', 'ciudad', 'provincia']))\n",
    "print(numeric_columns_with_nulls)"
   ]
  },
  {
   "cell_type": "code",
   "execution_count": null,
   "metadata": {},
   "outputs": [],
   "source": [
    "# Con dummy_na=True, creamos la categoria \"Es nulo\" como una coordenada más de los one-hot vectors\n",
    "# Comentar: ¿Hay leaks acá? ¿Sí / No? ¿Por qué?\n",
    "df2 = pd.get_dummies(df2, dummy_na=True)\n",
    "print(f\"Cantidad de columnas después del one-hot-encoding: {len(df2.columns)}\")\n",
    "df2.head(10)"
   ]
  },
  {
   "cell_type": "code",
   "execution_count": null,
   "metadata": {},
   "outputs": [],
   "source": [
    "# Para los nulls numéricos, usar un Imputer con strategy mean (reemplazamos los NaN por el promedio)\n",
    "# Para no leakear, spliteamos el dataset antes\n",
    "X = df2.drop(\"precio\", axis=1)\n",
    "y = df2['precio']\n",
    "X_train, X_test, y_train, y_test = train_test_split(X, y, test_size=0.25, random_state=1)"
   ]
  },
  {
   "cell_type": "code",
   "execution_count": null,
   "metadata": {},
   "outputs": [],
   "source": [
    "numeric_columns_with_nulls = list(set(df2.columns[df2.isnull().sum() > 0].tolist()) \\\n",
    "                                  - set(['tipodepropiedad', 'ciudad', 'provincia']))\n",
    "print(numeric_columns_with_nulls)"
   ]
  },
  {
   "cell_type": "code",
   "execution_count": null,
   "metadata": {},
   "outputs": [],
   "source": [
    "for c in numeric_columns_with_nulls:\n",
    "    imp = Imputer()\n",
    "    X_train[c] = imp.fit_transform(X_train[[c]])\n",
    "    X_test[c] = imp.transform(X_test[[c]])"
   ]
  },
  {
   "cell_type": "code",
   "execution_count": null,
   "metadata": {},
   "outputs": [],
   "source": [
    "from sklearn.ensemble import RandomForestClassifier\n",
    "model = RandomForestClassifier(n_estimators=5)\n",
    "model.fit(X_train, y_train)"
   ]
  },
  {
   "cell_type": "code",
   "execution_count": null,
   "metadata": {},
   "outputs": [],
   "source": [
    "model.score(X_test, y_test)"
   ]
  },
  {
   "cell_type": "code",
   "execution_count": null,
   "metadata": {},
   "outputs": [],
   "source": []
  }
 ],
 "metadata": {
  "kernelspec": {
   "display_name": "Python 3",
   "language": "python",
   "name": "python3"
  },
  "language_info": {
   "codemirror_mode": {
    "name": "ipython",
    "version": 3
   },
   "file_extension": ".py",
   "mimetype": "text/x-python",
   "name": "python",
   "nbconvert_exporter": "python",
   "pygments_lexer": "ipython3",
   "version": "3.7.3"
  }
 },
 "nbformat": 4,
 "nbformat_minor": 2
}
